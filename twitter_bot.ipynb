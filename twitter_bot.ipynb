{
 "cells": [
  {
   "cell_type": "code",
   "execution_count": 29,
   "id": "d162ccb8-b550-48d3-8007-403363b3fb27",
   "metadata": {},
   "outputs": [],
   "source": [
    "import tweepy\n",
    "import webbrowser\n",
    "import time\n",
    "from tweepy import OAuthHandler\n",
    "\n",
    "import tweepy\n",
    "from tweepy import StreamListener\n",
    "from tweepy import Stream\n",
    "import webbrowser\n",
    "\n",
    "\n",
    "##tweet\n",
    "\n",
    "CONSUMER_KEY='tPr9N0JETDdhZf1lXWkYqFotR'\n",
    "CONSUMER_SECRET='foTVxRknUXuksh8XFvZyH4oIRdwuV7uFOivh3GKRIDirGGblrt'\n",
    "Access_Token='3056269028-7ay0GVnaU1Z66oxQFoJKSEH9te5jDLK744ItIUe'\n",
    "Access_Token_Secret='oZnyaHa4jewAf9sBhxalowY5E5fCMCY1XT4BAIIR9v39s'\n",
    "\n",
    "\n",
    "# callback_uri='oob'\n",
    "auth = tweepy.OAuthHandler(CONSUMER_KEY, CONSUMER_SECRET)\n",
    "\n",
    "auth\n",
    "\n",
    "\n",
    "auth.set_access_token(Access_Token,Access_Token_Secret)\n",
    "\n",
    "\n"
   ]
  },
  {
   "cell_type": "code",
   "execution_count": 30,
   "id": "2bf95437-8718-4326-9096-28ba3a9e17ea",
   "metadata": {
    "scrolled": true,
    "tags": []
   },
   "outputs": [
    {
     "data": {
      "text/plain": [
       "Status(_api=<tweepy.api.API object at 0x01789808>, _json={'created_at': 'Tue May 11 17:12:48 +0000 2021', 'id': 1392165810165018624, 'id_str': '1392165810165018624', 'text': '1 check developer New Status Test 2!', 'truncated': False, 'entities': {'hashtags': [], 'symbols': [], 'user_mentions': [], 'urls': []}, 'source': '<a href=\"https://help.twitter.com/en/using-twitter/how-to-tweet#source-labels\" rel=\"nofollow\">my-butt</a>', 'in_reply_to_status_id': None, 'in_reply_to_status_id_str': None, 'in_reply_to_user_id': None, 'in_reply_to_user_id_str': None, 'in_reply_to_screen_name': None, 'user': {'id': 3056269028, 'id_str': '3056269028', 'name': 'Rajesh Kumar Sahoo', 'screen_name': 'rajeshkrsahoo', 'location': 'Bengaluru, India', 'description': '|| Software Developer ||\\nviews personal', 'url': 'https://t.co/emKWDDZbm9', 'entities': {'url': {'urls': [{'url': 'https://t.co/emKWDDZbm9', 'expanded_url': 'http://srirajeshsahoo.wordpress.com', 'display_url': 'srirajeshsahoo.wordpress.com', 'indices': [0, 23]}]}, 'description': {'urls': []}}, 'protected': False, 'followers_count': 49, 'friends_count': 180, 'listed_count': 1, 'created_at': 'Mon Mar 02 13:35:56 +0000 2015', 'favourites_count': 96, 'utc_offset': None, 'time_zone': None, 'geo_enabled': False, 'verified': False, 'statuses_count': 47, 'lang': None, 'contributors_enabled': False, 'is_translator': False, 'is_translation_enabled': False, 'profile_background_color': '000000', 'profile_background_image_url': 'http://abs.twimg.com/images/themes/theme1/bg.png', 'profile_background_image_url_https': 'https://abs.twimg.com/images/themes/theme1/bg.png', 'profile_background_tile': False, 'profile_image_url': 'http://pbs.twimg.com/profile_images/741019058758291457/R0gfVecj_normal.jpg', 'profile_image_url_https': 'https://pbs.twimg.com/profile_images/741019058758291457/R0gfVecj_normal.jpg', 'profile_banner_url': 'https://pbs.twimg.com/profile_banners/3056269028/1484395692', 'profile_link_color': 'E81C4F', 'profile_sidebar_border_color': '000000', 'profile_sidebar_fill_color': '000000', 'profile_text_color': '000000', 'profile_use_background_image': False, 'has_extended_profile': True, 'default_profile': False, 'default_profile_image': False, 'following': False, 'follow_request_sent': False, 'notifications': False, 'translator_type': 'none', 'withheld_in_countries': []}, 'geo': None, 'coordinates': None, 'place': None, 'contributors': None, 'is_quote_status': False, 'retweet_count': 0, 'favorite_count': 0, 'favorited': False, 'retweeted': False, 'lang': 'en'}, created_at=datetime.datetime(2021, 5, 11, 17, 12, 48), id=1392165810165018624, id_str='1392165810165018624', text='1 check developer New Status Test 2!', truncated=False, entities={'hashtags': [], 'symbols': [], 'user_mentions': [], 'urls': []}, source='my-butt', source_url='https://help.twitter.com/en/using-twitter/how-to-tweet#source-labels', in_reply_to_status_id=None, in_reply_to_status_id_str=None, in_reply_to_user_id=None, in_reply_to_user_id_str=None, in_reply_to_screen_name=None, author=User(_api=<tweepy.api.API object at 0x01789808>, _json={'id': 3056269028, 'id_str': '3056269028', 'name': 'Rajesh Kumar Sahoo', 'screen_name': 'rajeshkrsahoo', 'location': 'Bengaluru, India', 'description': '|| Software Developer ||\\nviews personal', 'url': 'https://t.co/emKWDDZbm9', 'entities': {'url': {'urls': [{'url': 'https://t.co/emKWDDZbm9', 'expanded_url': 'http://srirajeshsahoo.wordpress.com', 'display_url': 'srirajeshsahoo.wordpress.com', 'indices': [0, 23]}]}, 'description': {'urls': []}}, 'protected': False, 'followers_count': 49, 'friends_count': 180, 'listed_count': 1, 'created_at': 'Mon Mar 02 13:35:56 +0000 2015', 'favourites_count': 96, 'utc_offset': None, 'time_zone': None, 'geo_enabled': False, 'verified': False, 'statuses_count': 47, 'lang': None, 'contributors_enabled': False, 'is_translator': False, 'is_translation_enabled': False, 'profile_background_color': '000000', 'profile_background_image_url': 'http://abs.twimg.com/images/themes/theme1/bg.png', 'profile_background_image_url_https': 'https://abs.twimg.com/images/themes/theme1/bg.png', 'profile_background_tile': False, 'profile_image_url': 'http://pbs.twimg.com/profile_images/741019058758291457/R0gfVecj_normal.jpg', 'profile_image_url_https': 'https://pbs.twimg.com/profile_images/741019058758291457/R0gfVecj_normal.jpg', 'profile_banner_url': 'https://pbs.twimg.com/profile_banners/3056269028/1484395692', 'profile_link_color': 'E81C4F', 'profile_sidebar_border_color': '000000', 'profile_sidebar_fill_color': '000000', 'profile_text_color': '000000', 'profile_use_background_image': False, 'has_extended_profile': True, 'default_profile': False, 'default_profile_image': False, 'following': False, 'follow_request_sent': False, 'notifications': False, 'translator_type': 'none', 'withheld_in_countries': []}, id=3056269028, id_str='3056269028', name='Rajesh Kumar Sahoo', screen_name='rajeshkrsahoo', location='Bengaluru, India', description='|| Software Developer ||\\nviews personal', url='https://t.co/emKWDDZbm9', entities={'url': {'urls': [{'url': 'https://t.co/emKWDDZbm9', 'expanded_url': 'http://srirajeshsahoo.wordpress.com', 'display_url': 'srirajeshsahoo.wordpress.com', 'indices': [0, 23]}]}, 'description': {'urls': []}}, protected=False, followers_count=49, friends_count=180, listed_count=1, created_at=datetime.datetime(2015, 3, 2, 13, 35, 56), favourites_count=96, utc_offset=None, time_zone=None, geo_enabled=False, verified=False, statuses_count=47, lang=None, contributors_enabled=False, is_translator=False, is_translation_enabled=False, profile_background_color='000000', profile_background_image_url='http://abs.twimg.com/images/themes/theme1/bg.png', profile_background_image_url_https='https://abs.twimg.com/images/themes/theme1/bg.png', profile_background_tile=False, profile_image_url='http://pbs.twimg.com/profile_images/741019058758291457/R0gfVecj_normal.jpg', profile_image_url_https='https://pbs.twimg.com/profile_images/741019058758291457/R0gfVecj_normal.jpg', profile_banner_url='https://pbs.twimg.com/profile_banners/3056269028/1484395692', profile_link_color='E81C4F', profile_sidebar_border_color='000000', profile_sidebar_fill_color='000000', profile_text_color='000000', profile_use_background_image=False, has_extended_profile=True, default_profile=False, default_profile_image=False, following=False, follow_request_sent=False, notifications=False, translator_type='none', withheld_in_countries=[]), user=User(_api=<tweepy.api.API object at 0x01789808>, _json={'id': 3056269028, 'id_str': '3056269028', 'name': 'Rajesh Kumar Sahoo', 'screen_name': 'rajeshkrsahoo', 'location': 'Bengaluru, India', 'description': '|| Software Developer ||\\nviews personal', 'url': 'https://t.co/emKWDDZbm9', 'entities': {'url': {'urls': [{'url': 'https://t.co/emKWDDZbm9', 'expanded_url': 'http://srirajeshsahoo.wordpress.com', 'display_url': 'srirajeshsahoo.wordpress.com', 'indices': [0, 23]}]}, 'description': {'urls': []}}, 'protected': False, 'followers_count': 49, 'friends_count': 180, 'listed_count': 1, 'created_at': 'Mon Mar 02 13:35:56 +0000 2015', 'favourites_count': 96, 'utc_offset': None, 'time_zone': None, 'geo_enabled': False, 'verified': False, 'statuses_count': 47, 'lang': None, 'contributors_enabled': False, 'is_translator': False, 'is_translation_enabled': False, 'profile_background_color': '000000', 'profile_background_image_url': 'http://abs.twimg.com/images/themes/theme1/bg.png', 'profile_background_image_url_https': 'https://abs.twimg.com/images/themes/theme1/bg.png', 'profile_background_tile': False, 'profile_image_url': 'http://pbs.twimg.com/profile_images/741019058758291457/R0gfVecj_normal.jpg', 'profile_image_url_https': 'https://pbs.twimg.com/profile_images/741019058758291457/R0gfVecj_normal.jpg', 'profile_banner_url': 'https://pbs.twimg.com/profile_banners/3056269028/1484395692', 'profile_link_color': 'E81C4F', 'profile_sidebar_border_color': '000000', 'profile_sidebar_fill_color': '000000', 'profile_text_color': '000000', 'profile_use_background_image': False, 'has_extended_profile': True, 'default_profile': False, 'default_profile_image': False, 'following': False, 'follow_request_sent': False, 'notifications': False, 'translator_type': 'none', 'withheld_in_countries': []}, id=3056269028, id_str='3056269028', name='Rajesh Kumar Sahoo', screen_name='rajeshkrsahoo', location='Bengaluru, India', description='|| Software Developer ||\\nviews personal', url='https://t.co/emKWDDZbm9', entities={'url': {'urls': [{'url': 'https://t.co/emKWDDZbm9', 'expanded_url': 'http://srirajeshsahoo.wordpress.com', 'display_url': 'srirajeshsahoo.wordpress.com', 'indices': [0, 23]}]}, 'description': {'urls': []}}, protected=False, followers_count=49, friends_count=180, listed_count=1, created_at=datetime.datetime(2015, 3, 2, 13, 35, 56), favourites_count=96, utc_offset=None, time_zone=None, geo_enabled=False, verified=False, statuses_count=47, lang=None, contributors_enabled=False, is_translator=False, is_translation_enabled=False, profile_background_color='000000', profile_background_image_url='http://abs.twimg.com/images/themes/theme1/bg.png', profile_background_image_url_https='https://abs.twimg.com/images/themes/theme1/bg.png', profile_background_tile=False, profile_image_url='http://pbs.twimg.com/profile_images/741019058758291457/R0gfVecj_normal.jpg', profile_image_url_https='https://pbs.twimg.com/profile_images/741019058758291457/R0gfVecj_normal.jpg', profile_banner_url='https://pbs.twimg.com/profile_banners/3056269028/1484395692', profile_link_color='E81C4F', profile_sidebar_border_color='000000', profile_sidebar_fill_color='000000', profile_text_color='000000', profile_use_background_image=False, has_extended_profile=True, default_profile=False, default_profile_image=False, following=False, follow_request_sent=False, notifications=False, translator_type='none', withheld_in_countries=[]), geo=None, coordinates=None, place=None, contributors=None, is_quote_status=False, retweet_count=0, favorite_count=0, favorited=False, retweeted=False, lang='en')"
      ]
     },
     "execution_count": 30,
     "metadata": {},
     "output_type": "execute_result"
    }
   ],
   "source": [
    "api=tweepy.API(auth)\n",
    "\n",
    "###webbrowser.open(redrct_url)\n",
    "api.update_status(\"1 check developer New Status Test 2!\")\n",
    "#val.destroy()"
   ]
  },
  {
   "cell_type": "code",
   "execution_count": 38,
   "id": "3a480228-6b2d-4021-8f30-64c229472650",
   "metadata": {
    "scrolled": true,
    "tags": []
   },
   "outputs": [],
   "source": [
    "latest_tweet_id=api.me()\n",
    "latest_tweet_id=latest_tweet_id._json['status']['id']"
   ]
  },
  {
   "cell_type": "code",
   "execution_count": 39,
   "id": "f18c6731-39e0-419b-95ff-a59e4ee4707d",
   "metadata": {
    "scrolled": true,
    "tags": []
   },
   "outputs": [
    {
     "data": {
      "text/plain": [
       "Status(_api=<tweepy.api.API object at 0x01789808>, _json={'created_at': 'Tue May 11 17:12:48 +0000 2021', 'id': 1392165810165018624, 'id_str': '1392165810165018624', 'text': '1 check developer New Status Test 2!', 'truncated': False, 'entities': {'hashtags': [], 'symbols': [], 'user_mentions': [], 'urls': []}, 'source': '<a href=\"https://help.twitter.com/en/using-twitter/how-to-tweet#source-labels\" rel=\"nofollow\">my-butt</a>', 'in_reply_to_status_id': None, 'in_reply_to_status_id_str': None, 'in_reply_to_user_id': None, 'in_reply_to_user_id_str': None, 'in_reply_to_screen_name': None, 'user': {'id': 3056269028, 'id_str': '3056269028', 'name': 'Rajesh Kumar Sahoo', 'screen_name': 'rajeshkrsahoo', 'location': 'Bengaluru, India', 'description': '|| Software Developer ||\\nviews personal', 'url': 'https://t.co/emKWDDZbm9', 'entities': {'url': {'urls': [{'url': 'https://t.co/emKWDDZbm9', 'expanded_url': 'http://srirajeshsahoo.wordpress.com', 'display_url': 'srirajeshsahoo.wordpress.com', 'indices': [0, 23]}]}, 'description': {'urls': []}}, 'protected': False, 'followers_count': 49, 'friends_count': 180, 'listed_count': 1, 'created_at': 'Mon Mar 02 13:35:56 +0000 2015', 'favourites_count': 96, 'utc_offset': None, 'time_zone': None, 'geo_enabled': False, 'verified': False, 'statuses_count': 46, 'lang': None, 'contributors_enabled': False, 'is_translator': False, 'is_translation_enabled': False, 'profile_background_color': '000000', 'profile_background_image_url': 'http://abs.twimg.com/images/themes/theme1/bg.png', 'profile_background_image_url_https': 'https://abs.twimg.com/images/themes/theme1/bg.png', 'profile_background_tile': False, 'profile_image_url': 'http://pbs.twimg.com/profile_images/741019058758291457/R0gfVecj_normal.jpg', 'profile_image_url_https': 'https://pbs.twimg.com/profile_images/741019058758291457/R0gfVecj_normal.jpg', 'profile_banner_url': 'https://pbs.twimg.com/profile_banners/3056269028/1484395692', 'profile_link_color': 'E81C4F', 'profile_sidebar_border_color': '000000', 'profile_sidebar_fill_color': '000000', 'profile_text_color': '000000', 'profile_use_background_image': False, 'has_extended_profile': True, 'default_profile': False, 'default_profile_image': False, 'following': False, 'follow_request_sent': False, 'notifications': False, 'translator_type': 'none', 'withheld_in_countries': []}, 'geo': None, 'coordinates': None, 'place': None, 'contributors': None, 'is_quote_status': False, 'retweet_count': 0, 'favorite_count': 0, 'favorited': False, 'retweeted': False, 'lang': 'en'}, created_at=datetime.datetime(2021, 5, 11, 17, 12, 48), id=1392165810165018624, id_str='1392165810165018624', text='1 check developer New Status Test 2!', truncated=False, entities={'hashtags': [], 'symbols': [], 'user_mentions': [], 'urls': []}, source='my-butt', source_url='https://help.twitter.com/en/using-twitter/how-to-tweet#source-labels', in_reply_to_status_id=None, in_reply_to_status_id_str=None, in_reply_to_user_id=None, in_reply_to_user_id_str=None, in_reply_to_screen_name=None, author=User(_api=<tweepy.api.API object at 0x01789808>, _json={'id': 3056269028, 'id_str': '3056269028', 'name': 'Rajesh Kumar Sahoo', 'screen_name': 'rajeshkrsahoo', 'location': 'Bengaluru, India', 'description': '|| Software Developer ||\\nviews personal', 'url': 'https://t.co/emKWDDZbm9', 'entities': {'url': {'urls': [{'url': 'https://t.co/emKWDDZbm9', 'expanded_url': 'http://srirajeshsahoo.wordpress.com', 'display_url': 'srirajeshsahoo.wordpress.com', 'indices': [0, 23]}]}, 'description': {'urls': []}}, 'protected': False, 'followers_count': 49, 'friends_count': 180, 'listed_count': 1, 'created_at': 'Mon Mar 02 13:35:56 +0000 2015', 'favourites_count': 96, 'utc_offset': None, 'time_zone': None, 'geo_enabled': False, 'verified': False, 'statuses_count': 46, 'lang': None, 'contributors_enabled': False, 'is_translator': False, 'is_translation_enabled': False, 'profile_background_color': '000000', 'profile_background_image_url': 'http://abs.twimg.com/images/themes/theme1/bg.png', 'profile_background_image_url_https': 'https://abs.twimg.com/images/themes/theme1/bg.png', 'profile_background_tile': False, 'profile_image_url': 'http://pbs.twimg.com/profile_images/741019058758291457/R0gfVecj_normal.jpg', 'profile_image_url_https': 'https://pbs.twimg.com/profile_images/741019058758291457/R0gfVecj_normal.jpg', 'profile_banner_url': 'https://pbs.twimg.com/profile_banners/3056269028/1484395692', 'profile_link_color': 'E81C4F', 'profile_sidebar_border_color': '000000', 'profile_sidebar_fill_color': '000000', 'profile_text_color': '000000', 'profile_use_background_image': False, 'has_extended_profile': True, 'default_profile': False, 'default_profile_image': False, 'following': False, 'follow_request_sent': False, 'notifications': False, 'translator_type': 'none', 'withheld_in_countries': []}, id=3056269028, id_str='3056269028', name='Rajesh Kumar Sahoo', screen_name='rajeshkrsahoo', location='Bengaluru, India', description='|| Software Developer ||\\nviews personal', url='https://t.co/emKWDDZbm9', entities={'url': {'urls': [{'url': 'https://t.co/emKWDDZbm9', 'expanded_url': 'http://srirajeshsahoo.wordpress.com', 'display_url': 'srirajeshsahoo.wordpress.com', 'indices': [0, 23]}]}, 'description': {'urls': []}}, protected=False, followers_count=49, friends_count=180, listed_count=1, created_at=datetime.datetime(2015, 3, 2, 13, 35, 56), favourites_count=96, utc_offset=None, time_zone=None, geo_enabled=False, verified=False, statuses_count=46, lang=None, contributors_enabled=False, is_translator=False, is_translation_enabled=False, profile_background_color='000000', profile_background_image_url='http://abs.twimg.com/images/themes/theme1/bg.png', profile_background_image_url_https='https://abs.twimg.com/images/themes/theme1/bg.png', profile_background_tile=False, profile_image_url='http://pbs.twimg.com/profile_images/741019058758291457/R0gfVecj_normal.jpg', profile_image_url_https='https://pbs.twimg.com/profile_images/741019058758291457/R0gfVecj_normal.jpg', profile_banner_url='https://pbs.twimg.com/profile_banners/3056269028/1484395692', profile_link_color='E81C4F', profile_sidebar_border_color='000000', profile_sidebar_fill_color='000000', profile_text_color='000000', profile_use_background_image=False, has_extended_profile=True, default_profile=False, default_profile_image=False, following=False, follow_request_sent=False, notifications=False, translator_type='none', withheld_in_countries=[]), user=User(_api=<tweepy.api.API object at 0x01789808>, _json={'id': 3056269028, 'id_str': '3056269028', 'name': 'Rajesh Kumar Sahoo', 'screen_name': 'rajeshkrsahoo', 'location': 'Bengaluru, India', 'description': '|| Software Developer ||\\nviews personal', 'url': 'https://t.co/emKWDDZbm9', 'entities': {'url': {'urls': [{'url': 'https://t.co/emKWDDZbm9', 'expanded_url': 'http://srirajeshsahoo.wordpress.com', 'display_url': 'srirajeshsahoo.wordpress.com', 'indices': [0, 23]}]}, 'description': {'urls': []}}, 'protected': False, 'followers_count': 49, 'friends_count': 180, 'listed_count': 1, 'created_at': 'Mon Mar 02 13:35:56 +0000 2015', 'favourites_count': 96, 'utc_offset': None, 'time_zone': None, 'geo_enabled': False, 'verified': False, 'statuses_count': 46, 'lang': None, 'contributors_enabled': False, 'is_translator': False, 'is_translation_enabled': False, 'profile_background_color': '000000', 'profile_background_image_url': 'http://abs.twimg.com/images/themes/theme1/bg.png', 'profile_background_image_url_https': 'https://abs.twimg.com/images/themes/theme1/bg.png', 'profile_background_tile': False, 'profile_image_url': 'http://pbs.twimg.com/profile_images/741019058758291457/R0gfVecj_normal.jpg', 'profile_image_url_https': 'https://pbs.twimg.com/profile_images/741019058758291457/R0gfVecj_normal.jpg', 'profile_banner_url': 'https://pbs.twimg.com/profile_banners/3056269028/1484395692', 'profile_link_color': 'E81C4F', 'profile_sidebar_border_color': '000000', 'profile_sidebar_fill_color': '000000', 'profile_text_color': '000000', 'profile_use_background_image': False, 'has_extended_profile': True, 'default_profile': False, 'default_profile_image': False, 'following': False, 'follow_request_sent': False, 'notifications': False, 'translator_type': 'none', 'withheld_in_countries': []}, id=3056269028, id_str='3056269028', name='Rajesh Kumar Sahoo', screen_name='rajeshkrsahoo', location='Bengaluru, India', description='|| Software Developer ||\\nviews personal', url='https://t.co/emKWDDZbm9', entities={'url': {'urls': [{'url': 'https://t.co/emKWDDZbm9', 'expanded_url': 'http://srirajeshsahoo.wordpress.com', 'display_url': 'srirajeshsahoo.wordpress.com', 'indices': [0, 23]}]}, 'description': {'urls': []}}, protected=False, followers_count=49, friends_count=180, listed_count=1, created_at=datetime.datetime(2015, 3, 2, 13, 35, 56), favourites_count=96, utc_offset=None, time_zone=None, geo_enabled=False, verified=False, statuses_count=46, lang=None, contributors_enabled=False, is_translator=False, is_translation_enabled=False, profile_background_color='000000', profile_background_image_url='http://abs.twimg.com/images/themes/theme1/bg.png', profile_background_image_url_https='https://abs.twimg.com/images/themes/theme1/bg.png', profile_background_tile=False, profile_image_url='http://pbs.twimg.com/profile_images/741019058758291457/R0gfVecj_normal.jpg', profile_image_url_https='https://pbs.twimg.com/profile_images/741019058758291457/R0gfVecj_normal.jpg', profile_banner_url='https://pbs.twimg.com/profile_banners/3056269028/1484395692', profile_link_color='E81C4F', profile_sidebar_border_color='000000', profile_sidebar_fill_color='000000', profile_text_color='000000', profile_use_background_image=False, has_extended_profile=True, default_profile=False, default_profile_image=False, following=False, follow_request_sent=False, notifications=False, translator_type='none', withheld_in_countries=[]), geo=None, coordinates=None, place=None, contributors=None, is_quote_status=False, retweet_count=0, favorite_count=0, favorited=False, retweeted=False, lang='en')"
      ]
     },
     "execution_count": 39,
     "metadata": {},
     "output_type": "execute_result"
    }
   ],
   "source": [
    "api.destroy_status(latest_tweet_id)"
   ]
  },
  {
   "cell_type": "code",
   "execution_count": null,
   "id": "2d717774-5c3a-4378-9c33-538a66f5f3c6",
   "metadata": {},
   "outputs": [],
   "source": []
  }
 ],
 "metadata": {
  "kernelspec": {
   "display_name": "Python 3",
   "language": "python",
   "name": "python3"
  },
  "language_info": {
   "codemirror_mode": {
    "name": "ipython",
    "version": 3
   },
   "file_extension": ".py",
   "mimetype": "text/x-python",
   "name": "python",
   "nbconvert_exporter": "python",
   "pygments_lexer": "ipython3",
   "version": "3.9.1"
  }
 },
 "nbformat": 4,
 "nbformat_minor": 5
}
