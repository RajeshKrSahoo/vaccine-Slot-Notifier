{
 "cells": [
  {
   "cell_type": "markdown",
   "metadata": {},
   "source": [
    "## Covid19 Vaccine Slots checking Code"
   ]
  },
  {
   "cell_type": "code",
   "execution_count": 16,
   "metadata": {},
   "outputs": [
    {
     "name": "stdout",
     "output_type": "stream",
     "text": [
      "2021-05-13 19:49:03.779444\n",
      "[datetime.datetime(2021, 5, 13, 19, 49, 3, 779444), datetime.datetime(2021, 5, 14, 19, 49, 3, 779444), datetime.datetime(2021, 5, 15, 19, 49, 3, 779444), datetime.datetime(2021, 5, 16, 19, 49, 3, 779444), datetime.datetime(2021, 5, 17, 19, 49, 3, 779444), datetime.datetime(2021, 5, 18, 19, 49, 3, 779444), datetime.datetime(2021, 5, 19, 19, 49, 3, 779444), datetime.datetime(2021, 5, 20, 19, 49, 3, 779444), datetime.datetime(2021, 5, 21, 19, 49, 3, 779444), datetime.datetime(2021, 5, 22, 19, 49, 3, 779444), datetime.datetime(2021, 5, 23, 19, 49, 3, 779444), datetime.datetime(2021, 5, 24, 19, 49, 3, 779444), datetime.datetime(2021, 5, 25, 19, 49, 3, 779444), datetime.datetime(2021, 5, 26, 19, 49, 3, 779444), datetime.datetime(2021, 5, 27, 19, 49, 3, 779444), datetime.datetime(2021, 5, 28, 19, 49, 3, 779444), datetime.datetime(2021, 5, 29, 19, 49, 3, 779444), datetime.datetime(2021, 5, 30, 19, 49, 3, 779444), datetime.datetime(2021, 5, 31, 19, 49, 3, 779444), datetime.datetime(2021, 6, 1, 19, 49, 3, 779444), datetime.datetime(2021, 6, 2, 19, 49, 3, 779444), datetime.datetime(2021, 6, 3, 19, 49, 3, 779444), datetime.datetime(2021, 6, 4, 19, 49, 3, 779444), datetime.datetime(2021, 6, 5, 19, 49, 3, 779444), datetime.datetime(2021, 6, 6, 19, 49, 3, 779444)]\n"
     ]
    }
   ],
   "source": [
    "import pandas as pd\n",
    "import numpy as np\n",
    "import requests as rq\n",
    "from bs4 import BeautifulSoup as bs\n",
    "import datetime\n",
    "import json\n",
    "import urllib3\n",
    "urllib3.disable_warnings(urllib3.exceptions.InsecureRequestWarning)\n",
    "import ssl\n",
    "ssl._create_default_https_context = ssl._create_unverified_context\n",
    "\n",
    "##this above import is to minismise SSL Security warning in Macbook\n",
    "\n",
    "\n",
    "'''\n",
    "Scripts to get the Vaccination available slot for covid-19 centers with ease \n",
    "\n",
    "Open public API: https://apisetu.gov.in/public/marketplace/api/cowin\n",
    "'''\n",
    "\n",
    "base = datetime.datetime.today()\n",
    "print(base)\n",
    "\n",
    "numdays = 25\n",
    "date_list = [base + datetime.timedelta(days=x) for x in range(numdays)]\n",
    "print(date_list)\n",
    "date_str = [x.strftime(\"%d-%m-%Y\") for x in date_list]\n",
    "date_str\n",
    "age=58\n",
    "print_flag = 'y'\n",
    "print_flag = 'y'\n",
    "\n",
    "headers={'User-Agent':\"Mozilla/5.0 (Macintosh; Intel Mac OS X 10_14_6) AppleWebKit/537.36 (KHTML, like Gecko) Chrome/90.0.4430.93 Safari/537.36\"}\n",
    "\n",
    "def vaccine_state_data():\n",
    "    '''function to print the state and its correponsding district names'''\n",
    "\n",
    "    try:\n",
    "        ## Checking statecode avaialble\n",
    "        response_state = rq.get(\"https://cdn-api.co-vin.in/api/v2/admin/location/states\",headers=headers,verify=False)\n",
    "        json_data_state = json.loads(response_state.text)\n",
    "        print()\n",
    "        json_data_state['states']\n",
    "\n",
    "        data_dist=[]\n",
    "        for state_id in range(1,40):\n",
    "            ##Checking till 40 state code as i checked there are 40 statecode availble!\n",
    "#             try:\n",
    "#                 print(\"For State_code:{} State_name: {} \".format(state_id,next(i['state_name'] for i in json_data_state['states'] if i['state_id']==state_id)))\n",
    "#             except:\n",
    "#                 print(\"For State_code:{} State_name: {}\".format(state_id,'Not Available') )\n",
    "#                 pass\n",
    "            response_dist = rq.get(\"https://cdn-api.co-vin.in/api/v2/admin/location/districts/{}\".format(state_id),headers=headers,verify=False)\n",
    "            json_data = json.loads(response_dist.text)\n",
    "            for _ in json_data[\"districts\"]:\n",
    "                \n",
    "                # print(_[\"district_id\"],'\\t', _[\"district_name\"])\n",
    "                try:\n",
    "                    data_dist.append([_[\"district_id\"], _[\"district_name\"],next(i['state_name'] for i in json_data_state['states'] if i['state_id']==state_id),state_id])\n",
    "                except:\n",
    "                    data_dist.append([_[\"district_id\"], _[\"district_name\"],None,state_id])\n",
    "            # print(\"\\n\")\n",
    "\n",
    "        df = pd.DataFrame(data_dist, columns = ['district_id', 'district_name','State_name','State_id'],index=None)\n",
    "        df=df.sort_values(by=['State_id'], ascending=True)\n",
    "        df_vacc_state = df.reindex(columns=['State_id','State_name','district_name','district_id'])\n",
    "        print(len(df_vacc_state['district_id']))\n",
    "        df_vacc_state['State_id'].nunique()\n",
    "        return df_vacc_state\n",
    "\n",
    "\n",
    "    except Exception as e:\n",
    "        print(\"Exception \",e)\n",
    "\n",
    "\n",
    "\n",
    "def vaccineSlotsByDist(age,district_name,state):\n",
    "    try:\n",
    "        available_df=[]\n",
    "        age=age\n",
    "        \n",
    "        df_vacc_state=vaccine_state_data()\n",
    "        try:\n",
    "#             print(df_vacc_state)\n",
    "            DIST_ID=list(df_vacc_state[(df_vacc_state['State_name']== state) & (df_vacc_state['district_name']==district_name)]['district_id'])[0]\n",
    "            print(\"DIST_ID: \",DIST_ID)\n",
    "\n",
    "        except:\n",
    "            print(\"No Combintaiont found\")\n",
    "            return None\n",
    "            pass\n",
    "\n",
    "        for inp_date in date_str:\n",
    "            URL = \"https://cdn-api.co-vin.in/api/v2/appointment/sessions/public/calendarByDistrict?district_id={}&date={}\".format(DIST_ID, inp_date)\n",
    "            response = rq.get(URL,headers=headers,verify=False)\n",
    "            if response.ok:\n",
    "                resp_json = response.json()\n",
    "                # print(json.dumps(resp_json, indent = 1))\n",
    "                if resp_json[\"centers\"]:\n",
    "                    print(\"Available on: {}\".format(inp_date))\n",
    "                    if(print_flag=='y' or print_flag=='Y'):\n",
    "                        for center in resp_json[\"centers\"]:\n",
    "                            for session in center[\"sessions\"]:\n",
    "                                if session[\"min_age_limit\"] <= age :\n",
    "#                                     print(session[\"min_age_limit\"])\n",
    "#                                     print(\"\\t\", center[\"name\"])\n",
    "#                                     print(\"\\t\", center[\"block_name\"])\n",
    "#                                     print(\"\\t Price: \", center[\"fee_type\"])\n",
    "#                                     print(\"\\t Available Capacity: \", session[\"available_capacity\"])\n",
    "                                    if(session[\"vaccine\"] != ''):\n",
    "#                                         print(\"\\t Vaccine: \", session[\"vaccine\"])\n",
    "                                        pass\n",
    "                                        \n",
    "                                    else:\n",
    "                                        \n",
    "                                        session[\"vaccine\"]='No Information'\n",
    "#                                     print(\"\\n\\n\")\n",
    "                                    available_df.append([center[\"name\"],center[\"block_name\"],center[\"fee_type\"],session[\"vaccine\"],\\\n",
    "                                                        center['district_name'],center['state_name'],\\\n",
    "                                                        \n",
    "                                                        center['pincode'],inp_date, session[\"available_capacity\"], session[\"min_age_limit\"]\n",
    "                                                        \n",
    "                                                        ])\n",
    "                                                        \n",
    "                           \n",
    "                                 \n",
    "\n",
    "                        \n",
    "                else:\n",
    "                    print(\"No available slots on {}\".format(inp_date))\n",
    "\n",
    "\n",
    "\n",
    "\n",
    "\n",
    "        # Create the pandas DataFrame for re grouping whole data into one particlur data frames\n",
    "        info_vaccination = pd.DataFrame(available_df, columns = ['Vaccination Center', 'Block_name','Fee_type','Vaccine Type',\\\n",
    "            'District','State Name','pincode','Available Date','available capacity','Age Group'],index=None)\n",
    "        \n",
    "        indexNames = info_vaccination[ (info_vaccination['available capacity'] == 0) ].index\n",
    "    \n",
    "        info_vaccination.drop(indexNames , inplace=True)\n",
    "       \n",
    "        html=info_vaccination.set_index(['Available Date', 'State Name','District','pincode'])\n",
    "        \n",
    "        \n",
    "\n",
    "#         html= html.to_html()#classes='table table-hover ')\n",
    "#         html_ind_corona = html.replace('<thead>','<thead class=\"thead-dark\">')\n",
    "        return html#_ind_corona\n",
    "\n",
    "    except Exception as e:\n",
    "        print(\"Exception \",e)\n",
    "\n",
    "    \n",
    "    \n",
    "    "
   ]
  },
  {
   "cell_type": "code",
   "execution_count": 18,
   "metadata": {
    "scrolled": true
   },
   "outputs": [],
   "source": [
    "val=vaccineSlotsByDist(age=32,district_name='Hyderabad',state='Telangana')\n",
    "val\n",
    "\n",
    "data=['Central Delhi','East Delhi','North Delhi','Shahdara','West Delhi','New Delhi']\n",
    "dat1=[141,145,140,146,147,143]\n",
    "\n",
    "t1=['Odisha']\n",
    "\n",
    "for i in dat1:\n",
    "    print(i)\n",
    "    fa=vaccineSlotsByDist(32,i)\n",
    "    da=vaccineSlotsByDist(55,i)\n",
    "    print(fa,da)"
   ]
  },
  {
   "cell_type": "code",
   "execution_count": 9,
   "metadata": {},
   "outputs": [
    {
     "name": "stdout",
     "output_type": "stream",
     "text": [
      "None\n"
     ]
    }
   ],
   "source": [
    "print(val)"
   ]
  },
  {
   "cell_type": "code",
   "execution_count": 19,
   "metadata": {
    "scrolled": true
   },
   "outputs": [
    {
     "name": "stdout",
     "output_type": "stream",
     "text": [
      "\n",
      "761\n",
      "DIST_ID:  460\n",
      "Available on: 13-05-2021\n",
      "Available on: 14-05-2021\n",
      "Available on: 15-05-2021\n",
      "Available on: 16-05-2021\n",
      "Available on: 17-05-2021\n",
      "Available on: 18-05-2021\n",
      "Available on: 19-05-2021\n",
      "Available on: 20-05-2021\n",
      "Available on: 21-05-2021\n",
      "Available on: 22-05-2021\n",
      "Available on: 23-05-2021\n",
      "Available on: 24-05-2021\n",
      "Available on: 25-05-2021\n",
      "Available on: 26-05-2021\n",
      "Available on: 27-05-2021\n",
      "Available on: 28-05-2021\n",
      "No available slots on 29-05-2021\n",
      "No available slots on 30-05-2021\n",
      "No available slots on 31-05-2021\n",
      "No available slots on 01-06-2021\n",
      "No available slots on 02-06-2021\n",
      "No available slots on 03-06-2021\n",
      "No available slots on 04-06-2021\n",
      "No available slots on 05-06-2021\n",
      "No available slots on 06-06-2021\n"
     ]
    },
    {
     "data": {
      "text/html": [
       "<div>\n",
       "<style scoped>\n",
       "    .dataframe tbody tr th:only-of-type {\n",
       "        vertical-align: middle;\n",
       "    }\n",
       "\n",
       "    .dataframe tbody tr th {\n",
       "        vertical-align: top;\n",
       "    }\n",
       "\n",
       "    .dataframe thead th {\n",
       "        text-align: right;\n",
       "    }\n",
       "</style>\n",
       "<table border=\"1\" class=\"dataframe\">\n",
       "  <thead>\n",
       "    <tr style=\"text-align: right;\">\n",
       "      <th></th>\n",
       "      <th></th>\n",
       "      <th></th>\n",
       "      <th></th>\n",
       "      <th>Vaccination Center</th>\n",
       "      <th>Block_name</th>\n",
       "      <th>Fee_type</th>\n",
       "      <th>Vaccine Type</th>\n",
       "      <th>available capacity</th>\n",
       "      <th>Age Group</th>\n",
       "    </tr>\n",
       "    <tr>\n",
       "      <th>Available Date</th>\n",
       "      <th>State Name</th>\n",
       "      <th>District</th>\n",
       "      <th>pincode</th>\n",
       "      <th></th>\n",
       "      <th></th>\n",
       "      <th></th>\n",
       "      <th></th>\n",
       "      <th></th>\n",
       "      <th></th>\n",
       "    </tr>\n",
       "  </thead>\n",
       "  <tbody>\n",
       "  </tbody>\n",
       "</table>\n",
       "</div>"
      ],
      "text/plain": [
       "Empty DataFrame\n",
       "Columns: [Vaccination Center, Block_name, Fee_type, Vaccine Type, available capacity, Age Group]\n",
       "Index: []"
      ]
     },
     "execution_count": 19,
     "metadata": {},
     "output_type": "execute_result"
    }
   ],
   "source": [
    "val=vaccineSlotsByDist(age=55,district_name='Jajpur',state='Odisha')\n",
    "val"
   ]
  },
  {
   "cell_type": "markdown",
   "metadata": {},
   "source": [
    "## Sending Available slots"
   ]
  },
  {
   "cell_type": "code",
   "execution_count": 5,
   "metadata": {},
   "outputs": [
    {
     "name": "stdout",
     "output_type": "stream",
     "text": [
      "Sending...\n",
      "Mail Sent Successfully\n"
     ]
    }
   ],
   "source": [
    "import pandas as pd\n",
    "from email.mime.text import MIMEText\n",
    "from email.mime.application import MIMEApplication\n",
    "from email.mime.multipart import MIMEMultipart\n",
    "from smtplib import SMTP\n",
    "import smtplib\n",
    "import sys\n",
    "\n",
    "\n",
    "# df_1 = ([1,2,3,5])\n",
    "# df_2 = ([10,20,30,50])\n",
    "# df_test =pd.concat([pd.DataFrame(df_1),pd.DataFrame(df_2)],axis=1)\n",
    "df_test=val\n",
    "\n",
    "recipients = ['rcpient@gmail.com'] \n",
    "emaillist = [elem.strip().split(',') for elem in recipients]\n",
    "msg = MIMEMultipart()\n",
    "msg['Subject'] = \"dataframe table TEST FROM GMAIL\"\n",
    "msg['From'] = 'sender@gmail.com'\n",
    "\n",
    "html = \"\"\"\\\n",
    "        <html>\n",
    "          <head></head>\n",
    "          <body>\n",
    "            {0}\n",
    "          </body>\n",
    "        </html>\n",
    "\"\"\".format(df_test.to_html())\n",
    "\n",
    "part1 = MIMEText(html, 'html')\n",
    "msg.attach(part1)\n",
    "\n",
    "try:\n",
    "    \"\"\"Checking for connection errors\"\"\"\n",
    "    print(\"Sending...\")\n",
    "\n",
    "    server = smtplib.SMTP('smtp.gmail.com', 587)\n",
    "    server.ehlo()#NOT NECESSARY\n",
    "    server.starttls()\n",
    "    server.ehlo()#NOT NECESSARY\n",
    "    server.login('sender@gmail.com','pswd')\n",
    "    server.sendmail(msg['From'], emaillist , msg.as_string())\n",
    "    server.close()\n",
    "    print(\"Mail Sent Successfully\")\n",
    "\n",
    "except Exception as e:\n",
    "    print(\"Error for connection: {}\".format(e))"
   ]
  },
  {
   "cell_type": "markdown",
   "metadata": {},
   "source": [
    "## Using Twitter API to send the data"
   ]
  },
  {
   "cell_type": "code",
   "execution_count": 1,
   "metadata": {},
   "outputs": [],
   "source": [
    "import tweepy\n",
    "import webbrowser\n",
    "import time\n",
    "from tweepy import OAuthHandler\n",
    "\n",
    "import tweepy\n",
    "from tweepy import StreamListener\n",
    "from tweepy import Stream"
   ]
  },
  {
   "cell_type": "code",
   "execution_count": 2,
   "metadata": {},
   "outputs": [],
   "source": [
    "CONSUMER_KEY=''\n",
    "CONSUMER_SECRET=''\n",
    "Access_Token='3056269028-'\n",
    "Access_Token_Secret='"
   ]
  },
  {
   "cell_type": "code",
   "execution_count": 3,
   "metadata": {
    "scrolled": true
   },
   "outputs": [
    {
     "data": {
      "text/plain": [
       "<tweepy.auth.OAuthHandler at 0x7fe578500fd0>"
      ]
     },
     "execution_count": 3,
     "metadata": {},
     "output_type": "execute_result"
    }
   ],
   "source": [
    "# callback_uri='oob'\n",
    "auth = tweepy.OAuthHandler(CONSUMER_KEY, CONSUMER_SECRET)\n",
    "# auth.set_access_token(\"ACCESS_TOKEN\", \"ACCESS_TOKEN_SECRET\")\n",
    "# redirect_url = auth.get_authorization_url()\n",
    "# print(redirect_url)\n",
    "auth"
   ]
  },
  {
   "cell_type": "code",
   "execution_count": 4,
   "metadata": {
    "scrolled": true
   },
   "outputs": [],
   "source": [
    "auth.set_access_token(Access_Token,Access_Token_Secret)"
   ]
  },
  {
   "cell_type": "code",
   "execution_count": 5,
   "metadata": {},
   "outputs": [],
   "source": [
    "# Create API object\n",
    "api = tweepy.API(auth, wait_on_rate_limit=True,\n",
    "    wait_on_rate_limit_notify=True)\n",
    "# api.verify_credentials()\n"
   ]
  },
  {
   "cell_type": "code",
   "execution_count": 17,
   "metadata": {
    "scrolled": true
   },
   "outputs": [],
   "source": [
    "dir(api)\n",
    "# me=api.me()\n",
    "\n",
    "timeline = api.home_timeline(verify=False)\n",
    "for tweet in timeline:\n",
    "    print(f\"{tweet.user.name} said {tweet.text}\")"
   ]
  },
  {
   "cell_type": "code",
   "execution_count": 13,
   "metadata": {
    "scrolled": true
   },
   "outputs": [
    {
     "data": {
      "text/plain": [
       "<tweepy.streaming.Stream at 0x7f9a58486190>"
      ]
     },
     "execution_count": 13,
     "metadata": {},
     "output_type": "execute_result"
    }
   ],
   "source": [
    "tweets_listener = StreamListener(api)\n",
    "twitterStream = tweepy.Stream(auth,tweets_listener, verify = False)\n",
    "twitterStream"
   ]
  },
  {
   "cell_type": "code",
   "execution_count": 72,
   "metadata": {},
   "outputs": [
    {
     "name": "stdout",
     "output_type": "stream",
     "text": [
      "Error during authentication\n"
     ]
    }
   ],
   "source": [
    "api = tweepy.API(auth)\n",
    "\n",
    "try:\n",
    "    api.verify_credentials()\n",
    "    print(\"Authentication OK\")\n",
    "except:\n",
    "    print(\"Error during authentication\")"
   ]
  },
  {
   "cell_type": "code",
   "execution_count": null,
   "metadata": {},
   "outputs": [],
   "source": []
  }
 ],
 "metadata": {
  "kernelspec": {
   "display_name": "Python 3",
   "language": "python",
   "name": "python3"
  },
  "language_info": {
   "codemirror_mode": {
    "name": "ipython",
    "version": 3
   },
   "file_extension": ".py",
   "mimetype": "text/x-python",
   "name": "python",
   "nbconvert_exporter": "python",
   "pygments_lexer": "ipython3",
   "version": "3.7.4"
  }
 },
 "nbformat": 4,
 "nbformat_minor": 4
}
