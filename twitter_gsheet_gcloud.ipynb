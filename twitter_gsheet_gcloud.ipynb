{
 "cells": [
  {
   "cell_type": "code",
   "execution_count": 1,
   "id": "c88a34ff-7ef1-48d3-8a1d-4fcb62f28c86",
   "metadata": {},
   "outputs": [],
   "source": [
    "## GSPREAD"
   ]
  },
  {
   "cell_type": "code",
   "execution_count": 2,
   "id": "bc033ee2-29e0-496f-ad86-5f6e15873ce3",
   "metadata": {},
   "outputs": [
    {
     "data": {
      "text/plain": [
       "{'spreadsheetId': '1jYrsjlx4xD8MSkFGM3mItJT59ytoc5_LZJgE6wMSWK0',\n",
       " 'replies': [{}]}"
      ]
     },
     "execution_count": 2,
     "metadata": {},
     "output_type": "execute_result"
    }
   ],
   "source": [
    "import gspread\n",
    "\n",
    "gc = gspread.service_account('sheetscovidcowin-195446ee637a.json')\n",
    "\n",
    "# Open a sheet from a spreadsheet in one go\n",
    "wks = gc.open(\"coWIn_Updater\").sheet1\n",
    "\n",
    "# Update a range of cells using the top left corner address\n",
    "wks.update('A1', [[1, 2], [3, 4]])\n",
    "\n",
    "# Or update a single cell\n",
    "wks.update('B42', \"it's down there somewhere, let me take another look.\")\n",
    "\n",
    "# Format the header\n",
    "wks.format('A1:B1', {'textFormat': {'bold': True}})"
   ]
  },
  {
   "cell_type": "code",
   "execution_count": 32,
   "id": "7b8d8c78-54b7-46ae-847a-19b99d7b56e7",
   "metadata": {},
   "outputs": [
    {
     "data": {
      "text/plain": [
       "'https://docs.google.com/spreadsheets/d/1jYrsjlx4xD8MSkFGM3mItJT59ytoc5_LZJgE6wMSWK0/gviz/tq?tqx=out:csv&sheet=CovidData'"
      ]
     },
     "execution_count": 32,
     "metadata": {},
     "output_type": "execute_result"
    }
   ],
   "source": [
    "## Trick is to change the visibility of the link of the spreadsheet to anyone having link\n",
    "\n",
    "# https://www.youtube.com/watch?v=d2PvNXGrDQ0\n",
    "\n",
    "\n",
    "sheet_id='1jYrsjlx4xD8MSkFGM3mItJT59ytoc5_LZJgE6wMSWK0'\n",
    "sheet_name='CovidData'\n",
    "url = f\"https://docs.google.com/spreadsheets/d/{sheet_id}/gviz/tq?tqx=out:csv&sheet={sheet_name}\"\n",
    "url      \n",
    "\n",
    "# sheet_url='https://docs.google.com/spreadsheets/d/1jYrsjlx4xD8MSkFGM3mItJT59ytoc5_LZJgE6wMSWK0/edit#gid=0'\n",
    "# url_1 = sheet_url.replace('/edit#gid=', '/export?format=csv&gid=')"
   ]
  },
  {
   "cell_type": "code",
   "execution_count": 33,
   "id": "6e12a70b-d2cf-49d6-87f6-de9facc3c92c",
   "metadata": {
    "scrolled": true,
    "tags": []
   },
   "outputs": [
    {
     "data": {
      "text/html": [
       "<div>\n",
       "<style scoped>\n",
       "    .dataframe tbody tr th:only-of-type {\n",
       "        vertical-align: middle;\n",
       "    }\n",
       "\n",
       "    .dataframe tbody tr th {\n",
       "        vertical-align: top;\n",
       "    }\n",
       "\n",
       "    .dataframe thead th {\n",
       "        text-align: right;\n",
       "    }\n",
       "</style>\n",
       "<table border=\"1\" class=\"dataframe\">\n",
       "  <thead>\n",
       "    <tr style=\"text-align: right;\">\n",
       "      <th></th>\n",
       "      <th>City</th>\n",
       "      <th>State</th>\n",
       "    </tr>\n",
       "  </thead>\n",
       "  <tbody>\n",
       "    <tr>\n",
       "      <th>0</th>\n",
       "      <td>Hyderabad</td>\n",
       "      <td>Telengana</td>\n",
       "    </tr>\n",
       "    <tr>\n",
       "      <th>1</th>\n",
       "      <td>Bhubaneshwar</td>\n",
       "      <td>Odisha</td>\n",
       "    </tr>\n",
       "    <tr>\n",
       "      <th>2</th>\n",
       "      <td>Kolkata</td>\n",
       "      <td>West Bengal</td>\n",
       "    </tr>\n",
       "    <tr>\n",
       "      <th>3</th>\n",
       "      <td>bhbdha</td>\n",
       "      <td>NaN</td>\n",
       "    </tr>\n",
       "  </tbody>\n",
       "</table>\n",
       "</div>"
      ],
      "text/plain": [
       "           City        State\n",
       "0     Hyderabad    Telengana\n",
       "1  Bhubaneshwar       Odisha\n",
       "2       Kolkata  West Bengal\n",
       "3        bhbdha          NaN"
      ]
     },
     "execution_count": 33,
     "metadata": {},
     "output_type": "execute_result"
    }
   ],
   "source": [
    "import pandas as pd\n",
    "\n",
    "df=pd.read_csv(url,error_bad_lines=False)\n",
    "df"
   ]
  },
  {
   "cell_type": "code",
   "execution_count": null,
   "id": "ea807b16-95fc-4b30-bee4-a77614b56f22",
   "metadata": {},
   "outputs": [],
   "source": [
    "##trying new way!"
   ]
  },
  {
   "cell_type": "code",
   "execution_count": null,
   "id": "9f9f8b26-5da2-4a72-93ca-18a373742b63",
   "metadata": {},
   "outputs": [],
   "source": []
  },
  {
   "cell_type": "code",
   "execution_count": null,
   "id": "58de055d-4844-4c0b-9b64-f4c37d9e825c",
   "metadata": {},
   "outputs": [],
   "source": []
  }
 ],
 "metadata": {
  "kernelspec": {
   "display_name": "Python 3",
   "language": "python",
   "name": "python3"
  },
  "language_info": {
   "codemirror_mode": {
    "name": "ipython",
    "version": 3
   },
   "file_extension": ".py",
   "mimetype": "text/x-python",
   "name": "python",
   "nbconvert_exporter": "python",
   "pygments_lexer": "ipython3",
   "version": "3.9.1"
  }
 },
 "nbformat": 4,
 "nbformat_minor": 5
}
